{
 "cells": [
  {
   "cell_type": "markdown",
   "metadata": {},
   "source": [
    "# A study of predicting credit risk\n",
    "---\n",
    "How likely a person cannot pay their loan"
   ]
  },
  {
   "cell_type": "markdown",
   "metadata": {},
   "source": [
    "## About machine learning\n",
    "* Simulate how human brain works\n",
    "* Given certain information, evalute information based on past experience then make a decision\n",
    "* We feed machine with data, to build up it's past experience\n",
    "* Machine learns how important each information is and develops a strategy\n",
    "* Test the strategy to find out its accuracy \n",
    "* Change strategy to improve accuracy\n",
    "* Predict outcome when new information is given"
   ]
  },
  {
   "cell_type": "markdown",
   "metadata": {},
   "source": [
    "## Download/Clone the repository\n",
    "\n",
    "If you know how to use git, clone it. If not use the \"Download Zip\" option\n",
    "\n",
    "https://github.com/wewearglasses/creditrisk\n",
    "\n"
   ]
  },
  {
   "cell_type": "markdown",
   "metadata": {},
   "source": [
    "## Data source\n",
    "* https://www.kaggle.com/wordsforthewise/lending-club/home\n",
    "* Personal info about people applying for loans in lendingclub.com\n",
    "* 1 million accepted loans, 1 million rejected loans\n",
    "* The file size is huge. Do not open it with normal text editor\n",
    "* We take 10000 accepted entries (A.csv) and 1000 rejected entries (R.csv)\n",
    "* We assume the decision made by lendingclub is 100% correct. Those accepted will always pay back and those rejected will always default their payment\n",
    "* We want to create a system to have similar accuracy as them"
   ]
  },
  {
   "cell_type": "markdown",
   "metadata": {},
   "source": [
    "## Step 1: find out more about the data\n",
    "\n",
    "* The header.csv file contains the name of the data of each column"
   ]
  },
  {
   "cell_type": "code",
   "execution_count": null,
   "metadata": {
    "scrolled": true
   },
   "outputs": [],
   "source": [
    "# The header file is hard to read, let's convert it into line by line instead of joined by commas\n",
    "\n",
    "# TODO\n",
    "# open the file\n",
    "# read the content\n",
    "# split the content by comma to make a list\n",
    "# print out column names one line at a time\n",
    "\n"
   ]
  },
  {
   "cell_type": "markdown",
   "metadata": {},
   "source": [
    "## Step 2: have a peak of the real data"
   ]
  },
  {
   "cell_type": "code",
   "execution_count": null,
   "metadata": {},
   "outputs": [],
   "source": [
    "# TODO\n",
    "# open A.csv\n",
    "# print the first 1 line\n",
    "\n",
    "\n",
    "\n",
    "# TODO\n",
    "# open R.csv\n",
    "# print the first 1 line\n"
   ]
  },
  {
   "cell_type": "markdown",
   "metadata": {},
   "source": [
    "## Step 3: further understanding of the data"
   ]
  },
  {
   "cell_type": "code",
   "execution_count": null,
   "metadata": {},
   "outputs": [],
   "source": [
    "# Extract information about certain columns\n",
    "\n",
    "# TODO\n",
    "# write a function to extract data of a specific column, by passing the column's name\n",
    "# find out what are the purpose of the loans, the \"purpose\" column\n"
   ]
  },
  {
   "cell_type": "markdown",
   "metadata": {},
   "source": [
    "Let's make the data easier to view by giving a sumarized view"
   ]
  },
  {
   "cell_type": "code",
   "execution_count": null,
   "metadata": {},
   "outputs": [],
   "source": [
    "# How many loans are given for each purpose\n",
    "# count it manually with a dictionary\n"
   ]
  },
  {
   "cell_type": "markdown",
   "metadata": {},
   "source": [
    "## Step 4: data cleaning\n",
    "* The purposes of loans are different in rejected data and accepted data\n",
    "* We need to manually correct them"
   ]
  },
  {
   "cell_type": "code",
   "execution_count": null,
   "metadata": {},
   "outputs": [],
   "source": [
    "# Create a class to extract a column of data\n",
    "# Put all the functions we created into a class\n",
    "\n",
    "        "
   ]
  },
  {
   "cell_type": "markdown",
   "metadata": {},
   "source": [
    "Let's create a child class to clean purpose column"
   ]
  },
  {
   "cell_type": "code",
   "execution_count": null,
   "metadata": {},
   "outputs": [],
   "source": [
    "# TODO\n",
    "# create a class inherits from DataExtractor\n",
    "# overwrite the clean function to do the actual cleaning\n",
    "\n",
    "\n",
    "\n",
    "\n",
    "\n"
   ]
  }
 ],
 "metadata": {
  "kernelspec": {
   "display_name": "Python 3",
   "language": "python",
   "name": "python3"
  },
  "language_info": {
   "codemirror_mode": {
    "name": "ipython",
    "version": 2
   },
   "file_extension": ".py",
   "mimetype": "text/x-python",
   "name": "python",
   "nbconvert_exporter": "python",
   "pygments_lexer": "ipython2",
   "version": "2.7.15rc1"
  }
 },
 "nbformat": 4,
 "nbformat_minor": 2
}
